{
 "cells": [
  {
   "cell_type": "markdown",
   "metadata": {},
   "source": [
    "First let's generate a few random points on a 2D plane.\n",
    "\n",
    "We have to import a few things, namely:\n",
    "- numpy for generating random numbers\n",
    "- matplotlib.pyplot for plotting\n",
    "- cv2 for image processing\n",
    "- io for reading and writing files into memory\n",
    "- scipy.spatial for calculating the Voronoi diagram"
   ]
  },
  {
   "cell_type": "code",
   "execution_count": null,
   "metadata": {},
   "outputs": [],
   "source": [
    "import cv2\n",
    "import io\n",
    "import numpy as np\n",
    "import matplotlib.pyplot as plt\n",
    "from scipy.spatial import Voronoi, voronoi_plot_2d"
   ]
  },
  {
   "cell_type": "markdown",
   "metadata": {},
   "source": [
    "Let's setup our figures. We're gonna need 3 subplots:\n",
    "- the base image\n",
    "- openCV processing output\n",
    "- Voronoi diagram."
   ]
  },
  {
   "cell_type": "code",
   "execution_count": null,
   "metadata": {},
   "outputs": [],
   "source": [
    "fig, axs = plt.subplots(1, 3, figsize=(15, 5)) # (5+5+5)*5"
   ]
  },
  {
   "cell_type": "markdown",
   "metadata": {},
   "source": [
    "Generate black donts on a white background to use as our base image"
   ]
  },
  {
   "cell_type": "code",
   "execution_count": null,
   "metadata": {},
   "outputs": [],
   "source": [
    "def generate_image(ax: plt.Axes, img: io.BytesIO,n_points: int = 10):\n",
    "    # Generate random points\n",
    "    points = np.random.rand(n_points, 2)\n",
    "\n",
    "    # Turn off axis and labels\n",
    "    ax.axis(\"off\")\n",
    "    ax.xticks([])\n",
    "    ax.yticks([])\n",
    "\n",
    "    # Plot the points as black dots\n",
    "    ax.scatter(points[:, 0], points[:, 1], s=1, c=\"k\")\n",
    "\n",
    "    # Save the figure to the buffer\n",
    "    ax.savefig(img, bbox_inches=\"tight\", pad_inches=0, format=\"png\")\n",
    "    ax.show()"
   ]
  }
 ],
 "metadata": {
  "kernelspec": {
   "display_name": "Python 3",
   "language": "python",
   "name": "python3"
  },
  "language_info": {
   "name": "python",
   "version": "3.12.4"
  }
 },
 "nbformat": 4,
 "nbformat_minor": 2
}
