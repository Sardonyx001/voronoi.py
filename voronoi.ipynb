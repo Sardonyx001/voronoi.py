{
 "cells": [
  {
   "cell_type": "markdown",
   "metadata": {},
   "source": [
    "First let's generate a few random points on a 2D plane.\n",
    "\n",
    "We have to import a few things, namely:\n",
    "- numpy for generating random numbers\n",
    "- matplotlib.pyplot for plotting\n",
    "- cv2 for image processing\n",
    "- io for reading and writing files into memory\n",
    "- scipy.spatial for calculating the Voronoi diagram"
   ]
  },
  {
   "cell_type": "code",
   "execution_count": null,
   "metadata": {},
   "outputs": [],
   "source": [
    "import cv2\n",
    "import io\n",
    "import numpy as np\n",
    "import matplotlib.pyplot as plt\n",
    "from scipy.spatial import Voronoi, voronoi_plot_2d"
   ]
  },
  {
   "cell_type": "code",
   "execution_count": null,
   "metadata": {},
   "outputs": [],
   "source": [
    "def generate_image(img: io.BytesIO):\n",
    "    # Generate random points\n",
    "    points = np.random.rand(10, 2)\n",
    "\n",
    "    # Create the figure\n",
    "    fig = plt.figure(figsize=(5, 5))\n",
    "\n",
    "    # Turn off axis and labels\n",
    "    plt.axis(\"off\")\n",
    "    plt.xticks([])\n",
    "    plt.yticks([])\n",
    "\n",
    "    # Plot the points as black dots\n",
    "    plt.scatter(points[:, 0], points[:, 1], s=1, c=\"k\")\n",
    "\n",
    "    # Save the figure as an image\n",
    "    plt.savefig(img, bbox_inches=\"tight\", pad_inches=0, format=\"png\")\n",
    "    plt.show()"
   ]
  },
  {
   "cell_type": "code",
   "execution_count": null,
   "metadata": {},
   "outputs": [],
   "source": []
  }
 ],
 "metadata": {
  "kernelspec": {
   "display_name": "Python 3",
   "language": "python",
   "name": "python3"
  },
  "language_info": {
   "name": "python",
   "version": "3.12.4"
  }
 },
 "nbformat": 4,
 "nbformat_minor": 2
}
